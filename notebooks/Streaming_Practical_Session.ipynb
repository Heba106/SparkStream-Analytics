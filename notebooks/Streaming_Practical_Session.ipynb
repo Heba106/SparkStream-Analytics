{
 "cells": [
  {
   "cell_type": "code",
   "execution_count": 1,
   "id": "60f97978",
   "metadata": {},
   "outputs": [],
   "source": [
    "import pyspark\n",
    "from pyspark.sql import SparkSession\n",
    "spark = SparkSession.builder.getOrCreate()"
   ]
  },
  {
   "cell_type": "code",
   "execution_count": 2,
   "id": "201cee8c",
   "metadata": {},
   "outputs": [
    {
     "data": {
      "text/html": [
       "<style>pre { white-space: pre !important; }</style>"
      ],
      "text/plain": [
       "<IPython.core.display.HTML object>"
      ]
     },
     "metadata": {},
     "output_type": "display_data"
    }
   ],
   "source": [
    "from IPython.display import display, HTML\n",
    "display(HTML(\"<style>pre { white-space: pre !important; }</style>\"))"
   ]
  },
  {
   "cell_type": "markdown",
   "id": "efac8040",
   "metadata": {},
   "source": [
    "### Create the schema of the streamed files (check the column names and types from the CSV files)"
   ]
  },
  {
   "cell_type": "code",
   "execution_count": 3,
   "id": "c4674d5d",
   "metadata": {},
   "outputs": [],
   "source": [
    "from pyspark.sql.types import (StructType, StructField, IntegerType, \n",
    "                               DoubleType, DateType)\n",
    "\n",
    "schema = StructType([StructField('ID', IntegerType(), True),\n",
    "                     StructField('Date', DateType(), True),\n",
    "                     StructField('Open', DoubleType(), True),\n",
    "                     StructField('High', DoubleType(), True),\n",
    "                     StructField('Low', DoubleType(), True),\n",
    "                     StructField('Close', DoubleType(), True),\n",
    "                     StructField('Adj Close', DoubleType(), True),\n",
    "                     StructField('Volume', IntegerType(), True)\n",
    "                    ])"
   ]
  },
  {
   "cell_type": "markdown",
   "id": "4f50fbeb",
   "metadata": {},
   "source": [
    "### Create the dataframe by reading the stream using format \"csv\" and the schema you created."
   ]
  },
  {
   "cell_type": "code",
   "execution_count": 4,
   "id": "d77671b2",
   "metadata": {},
   "outputs": [],
   "source": [
    "df = spark.readStream.format('csv')\\\n",
    ".schema(schema)\\\n",
    ".load('InputStream/InputStream/')"
   ]
  },
  {
   "cell_type": "markdown",
   "id": "ce1e0e44",
   "metadata": {},
   "source": [
    "### Make sure the dataframe is streaming the files from the folder"
   ]
  },
  {
   "cell_type": "code",
   "execution_count": 5,
   "id": "0fc0fa13",
   "metadata": {},
   "outputs": [
    {
     "data": {
      "text/plain": [
       "True"
      ]
     },
     "execution_count": 5,
     "metadata": {},
     "output_type": "execute_result"
    }
   ],
   "source": [
    "df.isStreaming"
   ]
  },
  {
   "cell_type": "markdown",
   "id": "ac9d68de",
   "metadata": {},
   "source": [
    "### Create a stream writer into memory and specify the query name \"stock:"
   ]
  },
  {
   "cell_type": "code",
   "execution_count": 6,
   "id": "f40bf944",
   "metadata": {},
   "outputs": [],
   "source": [
    "writer = df.writeStream.outputMode('append')\\\n",
    ".format('memory')\\\n",
    ".queryName('stock')"
   ]
  },
  {
   "cell_type": "markdown",
   "id": "63a5f9a4",
   "metadata": {},
   "source": [
    "### Start the write stream and make sure it works (read all columns from the table)"
   ]
  },
  {
   "cell_type": "code",
   "execution_count": null,
   "id": "93e20d9b",
   "metadata": {},
   "outputs": [],
   "source": []
  },
  {
   "cell_type": "code",
   "execution_count": 7,
   "id": "27bebb21",
   "metadata": {},
   "outputs": [
    {
     "name": "stderr",
     "output_type": "stream",
     "text": [
      "23/10/06 14:07:34 WARN ResolveWriteToStream: Temporary checkpoint location created which is deleted normally when the query didn't fail: /tmp/temporary-8c924f63-0235-4e50-9bb9-7f05d4c3856d. If it's required to delete it under any circumstances, please set spark.sql.streaming.forceDeleteTempCheckpointLocation to true. Important to know deleting temp checkpoint folder is best effort.\n",
      "23/10/06 14:07:35 WARN ResolveWriteToStream: spark.sql.adaptive.enabled is not supported in streaming DataFrames/Datasets and will be disabled.\n",
      "[Stage 0:>                                                          (0 + 4) / 4]\r"
     ]
    }
   ],
   "source": [
    "query = writer.start()"
   ]
  },
  {
   "cell_type": "code",
   "execution_count": 8,
   "id": "769e6e1e",
   "metadata": {
    "scrolled": true
   },
   "outputs": [
    {
     "name": "stdout",
     "output_type": "stream",
     "text": [
      "+---+----+----+----+---+-----+---------+------+\n",
      "| ID|Date|Open|High|Low|Close|Adj Close|Volume|\n",
      "+---+----+----+----+---+-----+---------+------+\n",
      "+---+----+----+----+---+-----+---------+------+\n",
      "\n"
     ]
    },
    {
     "name": "stderr",
     "output_type": "stream",
     "text": [
      "\r",
      "[Stage 0:==============>                                            (1 + 3) / 4]\r",
      "\r",
      "                                                                                \r"
     ]
    }
   ],
   "source": [
    "df_mem = spark.sql('SELECT * FROM stock')\n",
    "df_mem.show(50)"
   ]
  },
  {
   "cell_type": "markdown",
   "id": "16908fa6",
   "metadata": {},
   "source": [
    "### Remove the first row from the data (hint: drop the rows where ALL values are null), then add a new column \"diff\", which is the difference between high and low columns"
   ]
  },
  {
   "cell_type": "code",
   "execution_count": 9,
   "id": "9f2eaa25",
   "metadata": {},
   "outputs": [
    {
     "name": "stderr",
     "output_type": "stream",
     "text": [
      "23/10/06 14:07:43 WARN GarbageCollectionMetrics: To enable non-built-in garbage collector(s) List(G1 Concurrent GC), users should configure it(them) to spark.eventLog.gcMetrics.youngGenerationGarbageCollectors or spark.eventLog.gcMetrics.oldGenerationGarbageCollectors\n"
     ]
    }
   ],
   "source": [
    "df_null_out = df.na.drop(how='all') "
   ]
  },
  {
   "cell_type": "code",
   "execution_count": 10,
   "id": "dab8f280",
   "metadata": {},
   "outputs": [],
   "source": [
    "from pyspark.sql.functions import *\n",
    "import pyspark.sql.functions as F"
   ]
  },
  {
   "cell_type": "code",
   "execution_count": 11,
   "id": "09f9d375",
   "metadata": {},
   "outputs": [],
   "source": [
    "df_modified = df_null_out.withColumn('diff', col('High') - col('Low'))"
   ]
  },
  {
   "cell_type": "code",
   "execution_count": 12,
   "id": "1527f6f1",
   "metadata": {},
   "outputs": [
    {
     "data": {
      "text/plain": [
       "{'message': 'Waiting for data to arrive',\n",
       " 'isDataAvailable': False,\n",
       " 'isTriggerActive': False}"
      ]
     },
     "execution_count": 12,
     "metadata": {},
     "output_type": "execute_result"
    }
   ],
   "source": [
    "query.status"
   ]
  },
  {
   "cell_type": "markdown",
   "id": "1f14581b",
   "metadata": {},
   "source": [
    "### Create a new write stream using the new generated dataframe and call the generated table \"modified_data\""
   ]
  },
  {
   "cell_type": "code",
   "execution_count": 13,
   "id": "9fb1be0e",
   "metadata": {},
   "outputs": [],
   "source": [
    "new_writer = df_modified.writeStream.outputMode('append')\\\n",
    ".format('memory')\\\n",
    ".queryName('modified_data')"
   ]
  },
  {
   "cell_type": "code",
   "execution_count": 14,
   "id": "072d0a41",
   "metadata": {
    "scrolled": true
   },
   "outputs": [
    {
     "name": "stderr",
     "output_type": "stream",
     "text": [
      "23/10/06 14:07:54 WARN ResolveWriteToStream: Temporary checkpoint location created which is deleted normally when the query didn't fail: /tmp/temporary-41128214-c2f2-41a7-8744-859e0bc0f47d. If it's required to delete it under any circumstances, please set spark.sql.streaming.forceDeleteTempCheckpointLocation to true. Important to know deleting temp checkpoint folder is best effort.\n",
      "23/10/06 14:07:54 WARN ResolveWriteToStream: spark.sql.adaptive.enabled is not supported in streaming DataFrames/Datasets and will be disabled.\n"
     ]
    }
   ],
   "source": [
    "query = new_writer.start()"
   ]
  },
  {
   "cell_type": "code",
   "execution_count": 15,
   "id": "969acbbc",
   "metadata": {
    "scrolled": true
   },
   "outputs": [
    {
     "name": "stdout",
     "output_type": "stream",
     "text": [
      "+---+----------+------------+------------+------------+------------+------------+------+------------------+\n",
      "| ID|      Date|        Open|        High|         Low|       Close|   Adj Close|Volume|              diff|\n",
      "+---+----------+------------+------------+------------+------------+------------+------+------------------+\n",
      "|120|2000-06-20|22817.900391|23102.199219|21680.599609|22320.300781|21092.632813| 34466|1421.5996099999975|\n",
      "|121|2000-06-21|21893.800781|22675.699219|21680.599609|22675.699219|21428.484375| 68651| 995.0996099999975|\n",
      "|122|2000-06-22|23386.599609|23386.599609|     22462.5|23031.099609|21764.335938| 97209| 924.0996090000008|\n",
      "|123|2000-06-23|22107.099609|24097.400391|22107.099609|     22889.0|21630.052734|199483|1990.3007819999984|\n",
      "|124|2000-06-26|23102.199219|     24168.5|22569.099609|24026.300781|22704.796875|121969|1599.4003909999992|\n",
      "|125|2000-06-27|24026.300781|25519.099609|     23742.0|24026.300781|22704.796875|113809|1777.0996090000008|\n",
      "|126|2000-06-28|23884.199219|24666.099609|23884.199219|24666.099609|23309.408203| 86236| 781.9003900000025|\n",
      "|127|2000-06-29|25234.699219|25234.699219|23919.699219|24239.599609|22906.365234| 45299|            1315.0|\n",
      "|128|2000-06-30|24523.900391|25092.599609|     23742.0|24879.300781|23510.880859| 76670|1350.5996090000008|\n",
      "|129|2000-07-03|24239.599609|25590.199219|24239.599609|25092.599609|23712.449219| 63306|1350.5996099999975|\n",
      "|130|2000-07-04|25767.900391|26087.699219|25234.699219|     25448.0|24048.302734| 45299|             853.0|\n",
      "|131|2000-07-05|     25448.0|25590.199219|24523.900391|     25448.0|24048.302734| 48816| 1066.298827999999|\n",
      "|132|2000-07-06|25519.099609|27367.300781|25128.099609|26585.300781|25123.048828|178662| 2239.201172000001|\n",
      "|133|2000-07-07|27011.800781|     27154.0|     26301.0|27011.800781|25526.091797|104103|             853.0|\n",
      "|134|2000-07-10|27722.699219|27722.699219|26443.199219|27011.800781|25526.091797|101570|            1279.5|\n",
      "|135|2000-07-11|27011.800781|27011.800781|26372.099609|26514.199219|25055.859375| 73716|  639.701172000001|\n",
      "|136|2000-07-12|26514.199219|27935.900391|26087.699219|26869.699219|25391.804688|139976| 1848.201172000001|\n",
      "|137|2000-07-13|26869.699219|26940.800781|     26301.0|26407.599609|24955.119141| 64994| 639.8007810000017|\n",
      "|138|2000-07-14|25945.599609|26407.599609|25341.400391|25803.400391|24384.154297| 75404|1066.1992180000016|\n",
      "|139|2000-07-17|25803.400391|25803.400391|25803.400391|25803.400391|24384.154297|     0|               0.0|\n",
      "|140|2000-07-18|     25021.5|25732.300781|24879.300781|24950.400391|23578.070313| 48253|             853.0|\n",
      "|141|2000-07-19|     25021.5|25732.300781|24879.300781|24950.400391|23578.070313| 48253|             853.0|\n",
      "|142|2000-07-20|24523.900391|26158.800781|23813.099609|24666.099609|23309.408203| 79062| 2345.701172000001|\n",
      "|143|2000-07-21|24523.900391|25234.699219|24523.900391|24950.400391|23578.070313| 35029|  710.798827999999|\n",
      "|144|2000-07-24|24950.400391|     25448.0|24559.400391|24950.400391|23578.070313| 42626| 888.5996090000008|\n",
      "|145|2000-07-25|25519.099609|26016.699219|     24595.0|25625.699219|24216.228516|142789|1421.6992189999983|\n",
      "|146|2000-07-26|25590.199219|28220.300781|25590.199219|27367.300781|25862.035156|208064|2630.1015620000035|\n",
      "|147|2000-07-27|27509.400391|28042.599609|     26727.5|27331.699219|25828.392578|102414|1315.0996090000008|\n",
      "|148|2000-07-28|26798.599609|28362.400391|26798.599609|27011.800781|25526.091797|119577|1563.8007819999984|\n",
      "|149|2000-07-31|26869.699219|27011.800781|     26301.0|26869.699219|25391.804688| 75826| 710.8007810000017|\n",
      "+---+----------+------------+------------+------------+------------+------------+------+------------------+\n",
      "only showing top 30 rows\n",
      "\n"
     ]
    }
   ],
   "source": [
    "finalDf = spark.sql('''select *\n",
    "                       from  modified_data\n",
    "                        ''')\n",
    "finalDf.show(30)"
   ]
  },
  {
   "cell_type": "markdown",
   "id": "e16c3036",
   "metadata": {},
   "source": [
    "### Write the generated data into files instead of the memory. "
   ]
  },
  {
   "cell_type": "code",
   "execution_count": 16,
   "id": "6441b76a",
   "metadata": {},
   "outputs": [],
   "source": [
    "file_writer = df_modified.writeStream.outputMode('append')\\\n",
    "        .format('csv')\\\n",
    "        .option('path', 'Outstream/')\\\n",
    "        .option('checkpointLocation', 'chkpnt')"
   ]
  },
  {
   "cell_type": "code",
   "execution_count": 17,
   "id": "a15a30c5",
   "metadata": {},
   "outputs": [
    {
     "name": "stderr",
     "output_type": "stream",
     "text": [
      "23/10/06 14:09:25 WARN ResolveWriteToStream: spark.sql.adaptive.enabled is not supported in streaming DataFrames/Datasets and will be disabled.\n"
     ]
    }
   ],
   "source": [
    "query = file_writer.start()"
   ]
  },
  {
   "cell_type": "markdown",
   "id": "72f07e3f",
   "metadata": {},
   "source": [
    "### Stop the query. Now, try reading the generated files into a normal dataframe\n",
    "- Create a schema and use it to read the data.\n",
    "- Show the output."
   ]
  },
  {
   "cell_type": "code",
   "execution_count": 22,
   "id": "6f9f6f50",
   "metadata": {},
   "outputs": [],
   "source": [
    "query.stop()"
   ]
  },
  {
   "cell_type": "code",
   "execution_count": 18,
   "id": "0a980c9f",
   "metadata": {},
   "outputs": [
    {
     "name": "stderr",
     "output_type": "stream",
     "text": [
      "\r",
      "[Stage 3:>                                                          (0 + 4) / 4]\r",
      "\r",
      "                                                                                \r"
     ]
    }
   ],
   "source": [
    "finalschema = StructType([StructField('ID', IntegerType(), True),\n",
    "                         StructField('Date', DateType(), True),\n",
    "                         StructField('Open', DoubleType(), True),\n",
    "                         StructField('High', DoubleType(), True),\n",
    "                         StructField('Low', DoubleType(), True),\n",
    "                         StructField('Close', DoubleType(), True),\n",
    "                         StructField('Adj Close', DoubleType(), True),\n",
    "                         StructField('Volume', IntegerType(), True),\n",
    "                         StructField('diff', DoubleType(), True)\n",
    "                    ])"
   ]
  },
  {
   "cell_type": "code",
   "execution_count": 19,
   "id": "ec1321fe",
   "metadata": {
    "scrolled": false
   },
   "outputs": [],
   "source": [
    "lastdf = spark.read.format('csv')\\\n",
    ".schema(finalschema)\\\n",
    ".load('Outstream')"
   ]
  },
  {
   "cell_type": "code",
   "execution_count": 20,
   "id": "c71ca2ae",
   "metadata": {},
   "outputs": [
    {
     "name": "stdout",
     "output_type": "stream",
     "text": [
      "+---+----------+------------+------------+------------+------------+------------+------+------------------+\n",
      "| ID|      Date|        Open|        High|         Low|       Close|   Adj Close|Volume|              diff|\n",
      "+---+----------+------------+------------+------------+------------+------------+------+------------------+\n",
      "|120|2000-06-20|22817.900391|23102.199219|21680.599609|22320.300781|21092.632813| 34466|1421.5996099999975|\n",
      "|121|2000-06-21|21893.800781|22675.699219|21680.599609|22675.699219|21428.484375| 68651| 995.0996099999975|\n",
      "|122|2000-06-22|23386.599609|23386.599609|     22462.5|23031.099609|21764.335938| 97209| 924.0996090000008|\n",
      "|123|2000-06-23|22107.099609|24097.400391|22107.099609|     22889.0|21630.052734|199483|1990.3007819999984|\n",
      "|124|2000-06-26|23102.199219|     24168.5|22569.099609|24026.300781|22704.796875|121969|1599.4003909999992|\n",
      "|125|2000-06-27|24026.300781|25519.099609|     23742.0|24026.300781|22704.796875|113809|1777.0996090000008|\n",
      "|126|2000-06-28|23884.199219|24666.099609|23884.199219|24666.099609|23309.408203| 86236| 781.9003900000025|\n",
      "|127|2000-06-29|25234.699219|25234.699219|23919.699219|24239.599609|22906.365234| 45299|            1315.0|\n",
      "|128|2000-06-30|24523.900391|25092.599609|     23742.0|24879.300781|23510.880859| 76670|1350.5996090000008|\n",
      "|129|2000-07-03|24239.599609|25590.199219|24239.599609|25092.599609|23712.449219| 63306|1350.5996099999975|\n",
      "|130|2000-07-04|25767.900391|26087.699219|25234.699219|     25448.0|24048.302734| 45299|             853.0|\n",
      "|131|2000-07-05|     25448.0|25590.199219|24523.900391|     25448.0|24048.302734| 48816| 1066.298827999999|\n",
      "|132|2000-07-06|25519.099609|27367.300781|25128.099609|26585.300781|25123.048828|178662| 2239.201172000001|\n",
      "|133|2000-07-07|27011.800781|     27154.0|     26301.0|27011.800781|25526.091797|104103|             853.0|\n",
      "|134|2000-07-10|27722.699219|27722.699219|26443.199219|27011.800781|25526.091797|101570|            1279.5|\n",
      "|135|2000-07-11|27011.800781|27011.800781|26372.099609|26514.199219|25055.859375| 73716|  639.701172000001|\n",
      "|136|2000-07-12|26514.199219|27935.900391|26087.699219|26869.699219|25391.804688|139976| 1848.201172000001|\n",
      "|137|2000-07-13|26869.699219|26940.800781|     26301.0|26407.599609|24955.119141| 64994| 639.8007810000017|\n",
      "|138|2000-07-14|25945.599609|26407.599609|25341.400391|25803.400391|24384.154297| 75404|1066.1992180000016|\n",
      "|139|2000-07-17|25803.400391|25803.400391|25803.400391|25803.400391|24384.154297|     0|               0.0|\n",
      "|140|2000-07-18|     25021.5|25732.300781|24879.300781|24950.400391|23578.070313| 48253|             853.0|\n",
      "|141|2000-07-19|     25021.5|25732.300781|24879.300781|24950.400391|23578.070313| 48253|             853.0|\n",
      "|142|2000-07-20|24523.900391|26158.800781|23813.099609|24666.099609|23309.408203| 79062| 2345.701172000001|\n",
      "|143|2000-07-21|24523.900391|25234.699219|24523.900391|24950.400391|23578.070313| 35029|  710.798827999999|\n",
      "|144|2000-07-24|24950.400391|     25448.0|24559.400391|24950.400391|23578.070313| 42626| 888.5996090000008|\n",
      "|145|2000-07-25|25519.099609|26016.699219|     24595.0|25625.699219|24216.228516|142789|1421.6992189999983|\n",
      "|146|2000-07-26|25590.199219|28220.300781|25590.199219|27367.300781|25862.035156|208064|2630.1015620000035|\n",
      "|147|2000-07-27|27509.400391|28042.599609|     26727.5|27331.699219|25828.392578|102414|1315.0996090000008|\n",
      "|148|2000-07-28|26798.599609|28362.400391|26798.599609|27011.800781|25526.091797|119577|1563.8007819999984|\n",
      "|149|2000-07-31|26869.699219|27011.800781|     26301.0|26869.699219|25391.804688| 75826| 710.8007810000017|\n",
      "+---+----------+------------+------------+------------+------------+------------+------+------------------+\n",
      "only showing top 30 rows\n",
      "\n"
     ]
    }
   ],
   "source": [
    "lastdf.show(30)"
   ]
  },
  {
   "cell_type": "markdown",
   "id": "4814d697",
   "metadata": {},
   "source": [
    "### Sort the dataframe based on the ID"
   ]
  },
  {
   "cell_type": "code",
   "execution_count": 21,
   "id": "c51d91a5",
   "metadata": {},
   "outputs": [
    {
     "name": "stdout",
     "output_type": "stream",
     "text": [
      "+---+----------+------------+------------+------------+------------+------------+------+------------------+\n",
      "| ID|      Date|        Open|        High|         Low|       Close|   Adj Close|Volume|              diff|\n",
      "+---+----------+------------+------------+------------+------------+------------+------+------------------+\n",
      "|  0|2000-01-04|22817.900391|25696.800781|22817.900391|24879.300781|23510.880859|108745|2878.9003900000025|\n",
      "|  1|2000-01-05|24523.900391|26229.900391|23670.900391|24417.300781|23074.294922|175990|            2559.0|\n",
      "|  2|2000-01-06|24381.699219|24666.099609|22746.800781|22817.900391|21562.865234| 71746| 1919.298827999999|\n",
      "|  3|2000-01-07|     22036.0|24879.300781|     22036.0|23884.199219|22570.513672|120984|2843.3007810000017|\n",
      "|  4|2000-01-10|24879.300781|25519.099609|23813.099609|24061.900391|22738.439453|151371|            1706.0|\n",
      "|  5|2000-01-11|     24168.5|     25021.5|23955.199219|24239.599609|22906.365234| 95943|1066.3007810000017|\n",
      "|  6|2000-01-12|     24168.5|24452.800781|23457.599609|23670.900391|22368.947266| 61899|  995.201172000001|\n",
      "|  7|2000-01-13|23670.900391|24132.900391|23102.199219|23244.400391| 21965.90625| 57538| 1030.701172000001|\n",
      "|  8|2000-01-14|23457.599609|     24168.5|22746.800781|23244.400391| 21965.90625| 84267|1421.6992189999983|\n",
      "|  9|2000-01-17|22533.599609|23457.599609|22533.599609|23457.599609|22167.376953| 67807|             924.0|\n",
      "| 10|2000-01-18|23457.599609|     23742.0|22746.800781|23422.099609|22133.832031| 27995| 995.1992189999983|\n",
      "| 11|2000-01-19|22817.900391|23173.300781|     22036.0|     22036.0|20823.970703| 44173|1137.3007810000017|\n",
      "| 12|2000-01-20|21325.099609|22000.400391|     20756.5|21680.599609|20488.117188| 47550|1243.9003909999992|\n",
      "| 13|2000-01-21|21680.599609|22391.400391|20863.099609|21680.599609|20488.117188| 80750|1528.3007819999984|\n",
      "| 14|2000-01-24|20969.699219|21822.699219|20969.699219|20969.699219|19816.320313| 79906|             853.0|\n",
      "| 15|2000-01-25|20258.900391|20934.199219|     19548.0|20116.699219|19010.236328|170925|1386.1992189999983|\n",
      "| 16|2000-01-26|20223.300781|20543.199219|19761.300781|     20330.0|19211.804688| 59929| 781.8984379999965|\n",
      "| 17|2000-01-27|     20401.0|22746.800781|     20330.0|21040.800781|19883.511719|139132|2416.8007810000017|\n",
      "| 18|2000-01-28|21431.800781|22107.099609|21040.800781|21964.900391|20756.783203| 78640| 1066.298827999999|\n",
      "| 19|2000-01-31|21325.099609|21893.800781|     21183.0|21467.300781|20286.552734| 45861| 710.8007810000017|\n",
      "+---+----------+------------+------------+------------+------------+------------+------+------------------+\n",
      "only showing top 20 rows\n",
      "\n"
     ]
    }
   ],
   "source": [
    "lastdfSorted = lastdf.sort('ID')\n",
    "lastdfSorted.show()"
   ]
  },
  {
   "cell_type": "code",
   "execution_count": null,
   "id": "e218d5ae",
   "metadata": {},
   "outputs": [],
   "source": []
  }
 ],
 "metadata": {
  "kernelspec": {
   "display_name": "Python 3 (ipykernel)",
   "language": "python",
   "name": "python3"
  },
  "language_info": {
   "codemirror_mode": {
    "name": "ipython",
    "version": 3
   },
   "file_extension": ".py",
   "mimetype": "text/x-python",
   "name": "python",
   "nbconvert_exporter": "python",
   "pygments_lexer": "ipython3",
   "version": "3.11.5"
  }
 },
 "nbformat": 4,
 "nbformat_minor": 5
}
